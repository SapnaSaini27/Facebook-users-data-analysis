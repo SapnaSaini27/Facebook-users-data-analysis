{
 "cells": [
  {
   "cell_type": "markdown",
   "id": "94c2aa4d-5428-4f08-8fa4-37a5875f8839",
   "metadata": {},
   "source": [
    "# Importing Libraries\n"
   ]
  },
  {
   "cell_type": "code",
   "execution_count": 64,
   "id": "2d934d8d-c566-4f86-8b48-0b8723ce1291",
   "metadata": {},
   "outputs": [],
   "source": [
    "import numpy as np\n",
    "import pandas as pd\n",
    "import matplotlib.pyplot as plt\n",
    "import seaborn as sns"
   ]
  },
  {
   "cell_type": "markdown",
   "id": "f8e1e67e-25c3-4b66-9e6f-89fbe993c5f3",
   "metadata": {},
   "source": [
    "# Import Dataset"
   ]
  },
  {
   "cell_type": "code",
   "execution_count": 2,
   "id": "68227db1-5807-453f-9ae1-fe7d6c317a10",
   "metadata": {},
   "outputs": [],
   "source": [
    "df = pd.read_csv(\"data.csv\")"
   ]
  },
  {
   "cell_type": "markdown",
   "id": "3fe7e949-ecd9-4e8b-b423-4a1a33548aa5",
   "metadata": {},
   "source": [
    "# Drop Unused columns"
   ]
  },
  {
   "cell_type": "code",
   "execution_count": 31,
   "id": "b8b07b48-170e-426b-8fe9-4354b3beef49",
   "metadata": {},
   "outputs": [
    {
     "data": {
      "text/plain": [
       "Index(['userid', 'age', 'gender', 'tenure', 'friend_count',\n",
       "       'friendships_initiated', 'likes_received'],\n",
       "      dtype='object')"
      ]
     },
     "execution_count": 31,
     "metadata": {},
     "output_type": "execute_result"
    }
   ],
   "source": [
    "df.columns"
   ]
  },
  {
   "cell_type": "code",
   "execution_count": 23,
   "id": "af112541-8edc-4f65-bb01-949f2552af85",
   "metadata": {},
   "outputs": [],
   "source": [
    "df.drop(['likes', 'mobile_likes','mobile_likes_received', 'www_likes', 'www_likes_received'], axis=1, inplace = True)"
   ]
  },
  {
   "cell_type": "markdown",
   "id": "14cae1b9-67b6-47ee-bdde-4163dbc9bc5f",
   "metadata": {},
   "source": [
    "# Data Information"
   ]
  },
  {
   "cell_type": "code",
   "execution_count": 24,
   "id": "83338fd3-4146-46d5-8cac-427bbbb8dd59",
   "metadata": {},
   "outputs": [
    {
     "data": {
      "text/plain": [
       "(98826, 7)"
      ]
     },
     "execution_count": 24,
     "metadata": {},
     "output_type": "execute_result"
    }
   ],
   "source": [
    "df.shape"
   ]
  },
  {
   "cell_type": "code",
   "execution_count": 25,
   "id": "28b9cc55-c09d-45ab-8ce9-fe42ec444247",
   "metadata": {},
   "outputs": [
    {
     "data": {
      "text/html": [
       "<div>\n",
       "<style scoped>\n",
       "    .dataframe tbody tr th:only-of-type {\n",
       "        vertical-align: middle;\n",
       "    }\n",
       "\n",
       "    .dataframe tbody tr th {\n",
       "        vertical-align: top;\n",
       "    }\n",
       "\n",
       "    .dataframe thead th {\n",
       "        text-align: right;\n",
       "    }\n",
       "</style>\n",
       "<table border=\"1\" class=\"dataframe\">\n",
       "  <thead>\n",
       "    <tr style=\"text-align: right;\">\n",
       "      <th></th>\n",
       "      <th>userid</th>\n",
       "      <th>age</th>\n",
       "      <th>gender</th>\n",
       "      <th>tenure</th>\n",
       "      <th>friend_count</th>\n",
       "      <th>friendships_initiated</th>\n",
       "      <th>likes_received</th>\n",
       "    </tr>\n",
       "  </thead>\n",
       "  <tbody>\n",
       "    <tr>\n",
       "      <th>0</th>\n",
       "      <td>2094382</td>\n",
       "      <td>14</td>\n",
       "      <td>male</td>\n",
       "      <td>266.0</td>\n",
       "      <td>0</td>\n",
       "      <td>0</td>\n",
       "      <td>0</td>\n",
       "    </tr>\n",
       "    <tr>\n",
       "      <th>1</th>\n",
       "      <td>1192601</td>\n",
       "      <td>14</td>\n",
       "      <td>female</td>\n",
       "      <td>6.0</td>\n",
       "      <td>0</td>\n",
       "      <td>0</td>\n",
       "      <td>0</td>\n",
       "    </tr>\n",
       "    <tr>\n",
       "      <th>2</th>\n",
       "      <td>2083884</td>\n",
       "      <td>14</td>\n",
       "      <td>male</td>\n",
       "      <td>13.0</td>\n",
       "      <td>0</td>\n",
       "      <td>0</td>\n",
       "      <td>0</td>\n",
       "    </tr>\n",
       "    <tr>\n",
       "      <th>3</th>\n",
       "      <td>1203168</td>\n",
       "      <td>14</td>\n",
       "      <td>female</td>\n",
       "      <td>93.0</td>\n",
       "      <td>0</td>\n",
       "      <td>0</td>\n",
       "      <td>0</td>\n",
       "    </tr>\n",
       "    <tr>\n",
       "      <th>4</th>\n",
       "      <td>1733186</td>\n",
       "      <td>14</td>\n",
       "      <td>male</td>\n",
       "      <td>82.0</td>\n",
       "      <td>0</td>\n",
       "      <td>0</td>\n",
       "      <td>0</td>\n",
       "    </tr>\n",
       "  </tbody>\n",
       "</table>\n",
       "</div>"
      ],
      "text/plain": [
       "    userid  age  gender  tenure  friend_count  friendships_initiated  \\\n",
       "0  2094382   14    male   266.0             0                      0   \n",
       "1  1192601   14  female     6.0             0                      0   \n",
       "2  2083884   14    male    13.0             0                      0   \n",
       "3  1203168   14  female    93.0             0                      0   \n",
       "4  1733186   14    male    82.0             0                      0   \n",
       "\n",
       "   likes_received  \n",
       "0               0  \n",
       "1               0  \n",
       "2               0  \n",
       "3               0  \n",
       "4               0  "
      ]
     },
     "execution_count": 25,
     "metadata": {},
     "output_type": "execute_result"
    }
   ],
   "source": [
    "df.head()"
   ]
  },
  {
   "cell_type": "code",
   "execution_count": 26,
   "id": "ac35f7b2-fdf8-4855-a4af-030a8406cf5f",
   "metadata": {},
   "outputs": [
    {
     "name": "stdout",
     "output_type": "stream",
     "text": [
      "<class 'pandas.core.frame.DataFrame'>\n",
      "Index: 98826 entries, 0 to 99002\n",
      "Data columns (total 7 columns):\n",
      " #   Column                 Non-Null Count  Dtype  \n",
      "---  ------                 --------------  -----  \n",
      " 0   userid                 98826 non-null  int64  \n",
      " 1   age                    98826 non-null  int64  \n",
      " 2   gender                 98826 non-null  object \n",
      " 3   tenure                 98826 non-null  float64\n",
      " 4   friend_count           98826 non-null  int64  \n",
      " 5   friendships_initiated  98826 non-null  int64  \n",
      " 6   likes_received         98826 non-null  int64  \n",
      "dtypes: float64(1), int64(5), object(1)\n",
      "memory usage: 8.0+ MB\n"
     ]
    }
   ],
   "source": [
    "df.info()"
   ]
  },
  {
   "cell_type": "markdown",
   "id": "e27691d9-24fc-49c6-9aae-d5d4665d358f",
   "metadata": {},
   "source": [
    "# Datatype converting"
   ]
  },
  {
   "cell_type": "code",
   "execution_count": 33,
   "id": "4334d61d-1595-485c-a84d-cac12b5a89a3",
   "metadata": {},
   "outputs": [],
   "source": [
    "numerical_list = ['age', 'tenure', 'friend_count',\n",
    "       'friendships_initiated', 'likes_received']"
   ]
  },
  {
   "cell_type": "code",
   "execution_count": 44,
   "id": "59b522f3-88ea-42c6-80b5-98a807326ec2",
   "metadata": {},
   "outputs": [],
   "source": [
    "def type_convertor():\n",
    "    for i in range(len(numerical_list)):\n",
    "        df[numerical_list[i]] = df[numerical_list[i]].astype(float)\n",
    "type_convertor()        "
   ]
  },
  {
   "cell_type": "markdown",
   "id": "4c8bb2fb-4dcd-4248-b0fa-2453abc3d29b",
   "metadata": {},
   "source": [
    "# Drop Null Values"
   ]
  },
  {
   "cell_type": "code",
   "execution_count": 45,
   "id": "a7da6afa-7716-4544-bd66-4252d29c0c0d",
   "metadata": {},
   "outputs": [
    {
     "data": {
      "text/plain": [
       "userid                   0\n",
       "age                      0\n",
       "gender                   0\n",
       "tenure                   0\n",
       "friend_count             0\n",
       "friendships_initiated    0\n",
       "likes_received           0\n",
       "dtype: int64"
      ]
     },
     "execution_count": 45,
     "metadata": {},
     "output_type": "execute_result"
    }
   ],
   "source": [
    "df.isnull().sum()"
   ]
  },
  {
   "cell_type": "code",
   "execution_count": 30,
   "id": "c5edcd56-ab1c-4f02-8d41-c991a3811297",
   "metadata": {},
   "outputs": [],
   "source": [
    "df.dropna(inplace = True)"
   ]
  },
  {
   "cell_type": "markdown",
   "id": "045a69b7-47d4-4f2f-afae-fce215f924f0",
   "metadata": {},
   "source": [
    "# Descriptive Analysis"
   ]
  },
  {
   "cell_type": "code",
   "execution_count": 27,
   "id": "5d300150-84ff-4d07-8b44-6c8592f01a19",
   "metadata": {},
   "outputs": [
    {
     "data": {
      "text/html": [
       "<div>\n",
       "<style scoped>\n",
       "    .dataframe tbody tr th:only-of-type {\n",
       "        vertical-align: middle;\n",
       "    }\n",
       "\n",
       "    .dataframe tbody tr th {\n",
       "        vertical-align: top;\n",
       "    }\n",
       "\n",
       "    .dataframe thead th {\n",
       "        text-align: right;\n",
       "    }\n",
       "</style>\n",
       "<table border=\"1\" class=\"dataframe\">\n",
       "  <thead>\n",
       "    <tr style=\"text-align: right;\">\n",
       "      <th></th>\n",
       "      <th>userid</th>\n",
       "      <th>age</th>\n",
       "      <th>tenure</th>\n",
       "      <th>friend_count</th>\n",
       "      <th>friendships_initiated</th>\n",
       "      <th>likes_received</th>\n",
       "    </tr>\n",
       "  </thead>\n",
       "  <tbody>\n",
       "    <tr>\n",
       "      <th>count</th>\n",
       "      <td>9.882600e+04</td>\n",
       "      <td>98826.000000</td>\n",
       "      <td>98826.000000</td>\n",
       "      <td>98826.000000</td>\n",
       "      <td>98826.000000</td>\n",
       "      <td>98826.000000</td>\n",
       "    </tr>\n",
       "    <tr>\n",
       "      <th>mean</th>\n",
       "      <td>1.597069e+06</td>\n",
       "      <td>37.212646</td>\n",
       "      <td>535.649758</td>\n",
       "      <td>196.374031</td>\n",
       "      <td>107.480056</td>\n",
       "      <td>142.665432</td>\n",
       "    </tr>\n",
       "    <tr>\n",
       "      <th>std</th>\n",
       "      <td>3.440114e+05</td>\n",
       "      <td>22.524220</td>\n",
       "      <td>454.258423</td>\n",
       "      <td>387.463475</td>\n",
       "      <td>188.861581</td>\n",
       "      <td>1388.990063</td>\n",
       "    </tr>\n",
       "    <tr>\n",
       "      <th>min</th>\n",
       "      <td>1.000008e+06</td>\n",
       "      <td>13.000000</td>\n",
       "      <td>0.000000</td>\n",
       "      <td>0.000000</td>\n",
       "      <td>0.000000</td>\n",
       "      <td>0.000000</td>\n",
       "    </tr>\n",
       "    <tr>\n",
       "      <th>25%</th>\n",
       "      <td>1.298868e+06</td>\n",
       "      <td>20.000000</td>\n",
       "      <td>226.000000</td>\n",
       "      <td>31.000000</td>\n",
       "      <td>17.000000</td>\n",
       "      <td>1.000000</td>\n",
       "    </tr>\n",
       "    <tr>\n",
       "      <th>50%</th>\n",
       "      <td>1.596225e+06</td>\n",
       "      <td>28.000000</td>\n",
       "      <td>412.000000</td>\n",
       "      <td>82.000000</td>\n",
       "      <td>46.000000</td>\n",
       "      <td>8.000000</td>\n",
       "    </tr>\n",
       "    <tr>\n",
       "      <th>75%</th>\n",
       "      <td>1.895572e+06</td>\n",
       "      <td>50.000000</td>\n",
       "      <td>673.000000</td>\n",
       "      <td>206.000000</td>\n",
       "      <td>117.000000</td>\n",
       "      <td>59.000000</td>\n",
       "    </tr>\n",
       "    <tr>\n",
       "      <th>max</th>\n",
       "      <td>2.193542e+06</td>\n",
       "      <td>113.000000</td>\n",
       "      <td>3139.000000</td>\n",
       "      <td>4923.000000</td>\n",
       "      <td>4144.000000</td>\n",
       "      <td>261197.000000</td>\n",
       "    </tr>\n",
       "  </tbody>\n",
       "</table>\n",
       "</div>"
      ],
      "text/plain": [
       "             userid           age        tenure  friend_count  \\\n",
       "count  9.882600e+04  98826.000000  98826.000000  98826.000000   \n",
       "mean   1.597069e+06     37.212646    535.649758    196.374031   \n",
       "std    3.440114e+05     22.524220    454.258423    387.463475   \n",
       "min    1.000008e+06     13.000000      0.000000      0.000000   \n",
       "25%    1.298868e+06     20.000000    226.000000     31.000000   \n",
       "50%    1.596225e+06     28.000000    412.000000     82.000000   \n",
       "75%    1.895572e+06     50.000000    673.000000    206.000000   \n",
       "max    2.193542e+06    113.000000   3139.000000   4923.000000   \n",
       "\n",
       "       friendships_initiated  likes_received  \n",
       "count           98826.000000    98826.000000  \n",
       "mean              107.480056      142.665432  \n",
       "std               188.861581     1388.990063  \n",
       "min                 0.000000        0.000000  \n",
       "25%                17.000000        1.000000  \n",
       "50%                46.000000        8.000000  \n",
       "75%               117.000000       59.000000  \n",
       "max              4144.000000   261197.000000  "
      ]
     },
     "execution_count": 27,
     "metadata": {},
     "output_type": "execute_result"
    }
   ],
   "source": [
    "df.describe()"
   ]
  },
  {
   "cell_type": "code",
   "execution_count": 28,
   "id": "93c6168e-d85a-4903-a141-5d10009840af",
   "metadata": {},
   "outputs": [
    {
     "data": {
      "text/html": [
       "<div>\n",
       "<style scoped>\n",
       "    .dataframe tbody tr th:only-of-type {\n",
       "        vertical-align: middle;\n",
       "    }\n",
       "\n",
       "    .dataframe tbody tr th {\n",
       "        vertical-align: top;\n",
       "    }\n",
       "\n",
       "    .dataframe thead th {\n",
       "        text-align: right;\n",
       "    }\n",
       "</style>\n",
       "<table border=\"1\" class=\"dataframe\">\n",
       "  <thead>\n",
       "    <tr style=\"text-align: right;\">\n",
       "      <th></th>\n",
       "      <th>gender</th>\n",
       "    </tr>\n",
       "  </thead>\n",
       "  <tbody>\n",
       "    <tr>\n",
       "      <th>count</th>\n",
       "      <td>98826</td>\n",
       "    </tr>\n",
       "    <tr>\n",
       "      <th>unique</th>\n",
       "      <td>2</td>\n",
       "    </tr>\n",
       "    <tr>\n",
       "      <th>top</th>\n",
       "      <td>male</td>\n",
       "    </tr>\n",
       "    <tr>\n",
       "      <th>freq</th>\n",
       "      <td>58574</td>\n",
       "    </tr>\n",
       "  </tbody>\n",
       "</table>\n",
       "</div>"
      ],
      "text/plain": [
       "       gender\n",
       "count   98826\n",
       "unique      2\n",
       "top      male\n",
       "freq    58574"
      ]
     },
     "execution_count": 28,
     "metadata": {},
     "output_type": "execute_result"
    }
   ],
   "source": [
    "df.describe(include = 'object')"
   ]
  },
  {
   "cell_type": "markdown",
   "id": "1d85a602-a22c-4684-a738-0420b49f63ae",
   "metadata": {},
   "source": [
    "# Person Correlation"
   ]
  },
  {
   "cell_type": "code",
   "execution_count": 51,
   "id": "0dc9d2a9-1db8-40f3-bd30-456b83952260",
   "metadata": {},
   "outputs": [
    {
     "data": {
      "text/html": [
       "<div>\n",
       "<style scoped>\n",
       "    .dataframe tbody tr th:only-of-type {\n",
       "        vertical-align: middle;\n",
       "    }\n",
       "\n",
       "    .dataframe tbody tr th {\n",
       "        vertical-align: top;\n",
       "    }\n",
       "\n",
       "    .dataframe thead th {\n",
       "        text-align: right;\n",
       "    }\n",
       "</style>\n",
       "<table border=\"1\" class=\"dataframe\">\n",
       "  <thead>\n",
       "    <tr style=\"text-align: right;\">\n",
       "      <th></th>\n",
       "      <th>age</th>\n",
       "      <th>tenure</th>\n",
       "      <th>friend_count</th>\n",
       "      <th>friendships_initiated</th>\n",
       "      <th>likes_received</th>\n",
       "    </tr>\n",
       "  </thead>\n",
       "  <tbody>\n",
       "    <tr>\n",
       "      <th>age</th>\n",
       "      <td>1.000000</td>\n",
       "      <td>0.458675</td>\n",
       "      <td>-0.027754</td>\n",
       "      <td>-0.058432</td>\n",
       "      <td>-0.022612</td>\n",
       "    </tr>\n",
       "    <tr>\n",
       "      <th>tenure</th>\n",
       "      <td>0.458675</td>\n",
       "      <td>1.000000</td>\n",
       "      <td>0.167604</td>\n",
       "      <td>0.134824</td>\n",
       "      <td>0.027865</td>\n",
       "    </tr>\n",
       "    <tr>\n",
       "      <th>friend_count</th>\n",
       "      <td>-0.027754</td>\n",
       "      <td>0.167604</td>\n",
       "      <td>1.000000</td>\n",
       "      <td>0.825753</td>\n",
       "      <td>0.236476</td>\n",
       "    </tr>\n",
       "    <tr>\n",
       "      <th>friendships_initiated</th>\n",
       "      <td>-0.058432</td>\n",
       "      <td>0.134824</td>\n",
       "      <td>0.825753</td>\n",
       "      <td>1.000000</td>\n",
       "      <td>0.175118</td>\n",
       "    </tr>\n",
       "    <tr>\n",
       "      <th>likes_received</th>\n",
       "      <td>-0.022612</td>\n",
       "      <td>0.027865</td>\n",
       "      <td>0.236476</td>\n",
       "      <td>0.175118</td>\n",
       "      <td>1.000000</td>\n",
       "    </tr>\n",
       "  </tbody>\n",
       "</table>\n",
       "</div>"
      ],
      "text/plain": [
       "                            age    tenure  friend_count  \\\n",
       "age                    1.000000  0.458675     -0.027754   \n",
       "tenure                 0.458675  1.000000      0.167604   \n",
       "friend_count          -0.027754  0.167604      1.000000   \n",
       "friendships_initiated -0.058432  0.134824      0.825753   \n",
       "likes_received        -0.022612  0.027865      0.236476   \n",
       "\n",
       "                       friendships_initiated  likes_received  \n",
       "age                                -0.058432       -0.022612  \n",
       "tenure                              0.134824        0.027865  \n",
       "friend_count                        0.825753        0.236476  \n",
       "friendships_initiated               1.000000        0.175118  \n",
       "likes_received                      0.175118        1.000000  "
      ]
     },
     "execution_count": 51,
     "metadata": {},
     "output_type": "execute_result"
    }
   ],
   "source": [
    "person_corr = df[['age','tenure', 'friend_count','friendships_initiated', 'likes_received']].corr()\n",
    "person_corr"
   ]
  },
  {
   "cell_type": "markdown",
   "id": "9b97a998-dfb3-40a5-b8ca-63bd623ad856",
   "metadata": {},
   "source": [
    "'friend_count' and 'friendships_initiated' has a strong co-relation. Positive relationship between 'age' and 'tenure', they go up in the same direction."
   ]
  },
  {
   "cell_type": "markdown",
   "id": "1241a5d8-8de6-44fa-abda-b7befd59c3f6",
   "metadata": {},
   "source": [
    "# EDA"
   ]
  },
  {
   "cell_type": "code",
   "execution_count": 48,
   "id": "8f69a7d5-a3a5-4e15-95c9-56d143c70643",
   "metadata": {},
   "outputs": [
    {
     "data": {
      "image/png": "[encoded data removed]",
      "text/plain": [
       "<Figure size 640x480 with 1 Axes>"
      ]
     },
     "metadata": {},
     "output_type": "display_data"
    }
   ],
   "source": [
    "ax = sns.countplot(data = df, x = \"gender\")\n",
    "for i in ax.containers:\n",
    "    ax.bar_label(i)\n",
    "plt.show()\n",
    "\n"
   ]
  },
  {
   "cell_type": "markdown",
   "id": "5e543721-fecd-4ca1-a22c-4723088547e6",
   "metadata": {},
   "source": [
    "There are more \"male\" account on facebook as compare to female."
   ]
  },
  {
   "cell_type": "code",
   "execution_count": 59,
   "id": "b73191f3-605c-4d10-aa82-668af2044fa1",
   "metadata": {},
   "outputs": [
    {
     "data": {
      "image/png": "[encoded data removed]",
      "text/plain": [
       "<Figure size 640x480 with 2 Axes>"
      ]
     },
     "metadata": {},
     "output_type": "display_data"
    }
   ],
   "source": [
    "sns.heatmap(person_corr, annot = True,vmin = -1, vmax=1)\n",
    "plt.show()"
   ]
  },
  {
   "cell_type": "code",
   "execution_count": 89,
   "id": "51a57448-5e16-4c83-a01e-3841fc2a69f1",
   "metadata": {},
   "outputs": [
    {
     "data": {
      "image/png": "[encoded data removed]",
      "text/plain": [
       "<Figure size 1200x800 with 1 Axes>"
      ]
     },
     "metadata": {},
     "output_type": "display_data"
    }
   ],
   "source": [
    "fig,ax = plt.subplots(figsize  = (12,8))\n",
    "labels = ['10-20','21-30','31-40','41-50','51-60','61-70','71-80','81-90','91-100','101-110','111-120']\n",
    "df['age_group'] = pd.cut(df['age'], bins= np.arange(10,121,10), labels = labels)\n",
    "sns.barplot(x=df['age_group'], y = df['friend_count'], hue = df['gender'],ax = ax,errorbar=None)\n",
    "plt.xlabel(\"Age Group\",fontsize = 15)\n",
    "plt.ylabel(\"Number of Friends\", fontsize = 15)\n",
    "plt.yticks([])\n",
    "\n",
    "for i in ax.containers:\n",
    "    ax.bar_label(i)\n",
    "\n",
    "# for spine in ax.spines.values():   # for removing the border\n",
    "#     spine.set_visible(False)\n",
    "plt.show()\n",
    "\n"
   ]
  },
  {
   "cell_type": "code",
   "execution_count": 85,
   "id": "70585fbf-d634-4e7f-99aa-c88b72ae6eda",
   "metadata": {},
   "outputs": [
    {
     "data": {
      "text/plain": [
       "friend_count\n",
       "False    96864\n",
       "True      1962\n",
       "Name: count, dtype: int64"
      ]
     },
     "execution_count": 85,
     "metadata": {},
     "output_type": "execute_result"
    }
   ],
   "source": [
    "fc = df['friend_count'] ==0\n",
    "friend_c = fc.value_counts()\n",
    "friend_c"
   ]
  },
  {
   "cell_type": "code",
   "execution_count": 88,
   "id": "782fe0e7-f041-48f7-a847-7ee29916ba47",
   "metadata": {},
   "outputs": [
    {
     "data": {
      "image/png": "[encoded data removed]",
      "text/plain": [
       "<Figure size 1200x500 with 1 Axes>"
      ]
     },
     "metadata": {},
     "output_type": "display_data"
    }
   ],
   "source": [
    "fig,ax = plt.subplots(figsize  = (12,5))\n",
    "\n",
    "sns.countplot(x=fc,hue = df['gender'], ax = ax)\n",
    "plt.xlabel(\"Condition\",fontsize = 15)\n",
    "plt.ylabel(\"Number of Friends\", fontsize = 15)\n",
    "ax.set_xticklabels(['Have Friends', 'No Friend'])\n",
    "plt.yticks([])\n",
    "\n",
    "for i in ax.containers:\n",
    "    ax.bar_label(i)\n",
    "\n",
    "plt.show()"
   ]
  },
  {
   "cell_type": "markdown",
   "id": "213de182-b6c4-4208-9bc4-0b3b9b3ef6d6",
   "metadata": {},
   "source": [
    "There are more \"male\" who had 'no friend' as compare to females. And also there are more \"male\" who had more 'friends' as compare to females."
   ]
  },
  {
   "cell_type": "code",
   "execution_count": 91,
   "id": "afe6b9a4-5f8e-4b5a-8921-25c86b1cc484",
   "metadata": {},
   "outputs": [
    {
     "data": {
      "text/html": [
       "<div>\n",
       "<style scoped>\n",
       "    .dataframe tbody tr th:only-of-type {\n",
       "        vertical-align: middle;\n",
       "    }\n",
       "\n",
       "    .dataframe tbody tr th {\n",
       "        vertical-align: top;\n",
       "    }\n",
       "\n",
       "    .dataframe thead th {\n",
       "        text-align: right;\n",
       "    }\n",
       "</style>\n",
       "<table border=\"1\" class=\"dataframe\">\n",
       "  <thead>\n",
       "    <tr style=\"text-align: right;\">\n",
       "      <th></th>\n",
       "      <th>userid</th>\n",
       "      <th>age</th>\n",
       "      <th>gender</th>\n",
       "      <th>tenure</th>\n",
       "      <th>friend_count</th>\n",
       "      <th>friendships_initiated</th>\n",
       "      <th>likes_received</th>\n",
       "      <th>age_group</th>\n",
       "    </tr>\n",
       "  </thead>\n",
       "  <tbody>\n",
       "    <tr>\n",
       "      <th>94906</th>\n",
       "      <td>1674584</td>\n",
       "      <td>17.0</td>\n",
       "      <td>female</td>\n",
       "      <td>401.0</td>\n",
       "      <td>818.0</td>\n",
       "      <td>395.0</td>\n",
       "      <td>261197.0</td>\n",
       "      <td>10-20</td>\n",
       "    </tr>\n",
       "    <tr>\n",
       "      <th>77121</th>\n",
       "      <td>1441676</td>\n",
       "      <td>20.0</td>\n",
       "      <td>female</td>\n",
       "      <td>253.0</td>\n",
       "      <td>230.0</td>\n",
       "      <td>73.0</td>\n",
       "      <td>178166.0</td>\n",
       "      <td>10-20</td>\n",
       "    </tr>\n",
       "    <tr>\n",
       "      <th>98822</th>\n",
       "      <td>1715925</td>\n",
       "      <td>23.0</td>\n",
       "      <td>female</td>\n",
       "      <td>705.0</td>\n",
       "      <td>4077.0</td>\n",
       "      <td>793.0</td>\n",
       "      <td>152014.0</td>\n",
       "      <td>21-30</td>\n",
       "    </tr>\n",
       "    <tr>\n",
       "      <th>98994</th>\n",
       "      <td>2063006</td>\n",
       "      <td>20.0</td>\n",
       "      <td>female</td>\n",
       "      <td>402.0</td>\n",
       "      <td>1988.0</td>\n",
       "      <td>332.0</td>\n",
       "      <td>106025.0</td>\n",
       "      <td>10-20</td>\n",
       "    </tr>\n",
       "    <tr>\n",
       "      <th>98878</th>\n",
       "      <td>1053087</td>\n",
       "      <td>23.0</td>\n",
       "      <td>male</td>\n",
       "      <td>596.0</td>\n",
       "      <td>4320.0</td>\n",
       "      <td>836.0</td>\n",
       "      <td>82623.0</td>\n",
       "      <td>21-30</td>\n",
       "    </tr>\n",
       "  </tbody>\n",
       "</table>\n",
       "</div>"
      ],
      "text/plain": [
       "        userid   age  gender  tenure  friend_count  friendships_initiated  \\\n",
       "94906  1674584  17.0  female   401.0         818.0                  395.0   \n",
       "77121  1441676  20.0  female   253.0         230.0                   73.0   \n",
       "98822  1715925  23.0  female   705.0        4077.0                  793.0   \n",
       "98994  2063006  20.0  female   402.0        1988.0                  332.0   \n",
       "98878  1053087  23.0    male   596.0        4320.0                  836.0   \n",
       "\n",
       "       likes_received age_group  \n",
       "94906        261197.0     10-20  \n",
       "77121        178166.0     10-20  \n",
       "98822        152014.0     21-30  \n",
       "98994        106025.0     10-20  \n",
       "98878         82623.0     21-30  "
      ]
     },
     "execution_count": 91,
     "metadata": {},
     "output_type": "execute_result"
    }
   ],
   "source": [
    "df.sort_values(by='likes_received', ascending = False)[:5]  # Received more likes from other users."
   ]
  },
  {
   "cell_type": "markdown",
   "id": "f6f7bd3b-1569-4189-a8de-d5be5fcb8642",
   "metadata": {},
   "source": [
    "# Top 5 Users who had more likes per day"
   ]
  },
  {
   "cell_type": "code",
   "execution_count": 94,
   "id": "6c0db60e-f477-4242-b46e-c5ec36fcd5d6",
   "metadata": {},
   "outputs": [
    {
     "data": {
      "text/html": [
       "<div>\n",
       "<style scoped>\n",
       "    .dataframe tbody tr th:only-of-type {\n",
       "        vertical-align: middle;\n",
       "    }\n",
       "\n",
       "    .dataframe tbody tr th {\n",
       "        vertical-align: top;\n",
       "    }\n",
       "\n",
       "    .dataframe thead th {\n",
       "        text-align: right;\n",
       "    }\n",
       "</style>\n",
       "<table border=\"1\" class=\"dataframe\">\n",
       "  <thead>\n",
       "    <tr style=\"text-align: right;\">\n",
       "      <th></th>\n",
       "      <th>userid</th>\n",
       "      <th>age</th>\n",
       "      <th>gender</th>\n",
       "      <th>tenure</th>\n",
       "      <th>friend_count</th>\n",
       "      <th>friendships_initiated</th>\n",
       "      <th>likes_received</th>\n",
       "      <th>age_group</th>\n",
       "      <th>likes_per_day</th>\n",
       "    </tr>\n",
       "  </thead>\n",
       "  <tbody>\n",
       "    <tr>\n",
       "      <th>94996</th>\n",
       "      <td>1149300</td>\n",
       "      <td>24.0</td>\n",
       "      <td>female</td>\n",
       "      <td>2.0</td>\n",
       "      <td>834.0</td>\n",
       "      <td>104.0</td>\n",
       "      <td>5404.0</td>\n",
       "      <td>21-30</td>\n",
       "      <td>2702.000000</td>\n",
       "    </tr>\n",
       "    <tr>\n",
       "      <th>94057</th>\n",
       "      <td>2175941</td>\n",
       "      <td>18.0</td>\n",
       "      <td>male</td>\n",
       "      <td>2.0</td>\n",
       "      <td>640.0</td>\n",
       "      <td>299.0</td>\n",
       "      <td>2542.0</td>\n",
       "      <td>10-20</td>\n",
       "      <td>1271.000000</td>\n",
       "    </tr>\n",
       "    <tr>\n",
       "      <th>98773</th>\n",
       "      <td>2042824</td>\n",
       "      <td>18.0</td>\n",
       "      <td>male</td>\n",
       "      <td>51.0</td>\n",
       "      <td>4817.0</td>\n",
       "      <td>32.0</td>\n",
       "      <td>52964.0</td>\n",
       "      <td>10-20</td>\n",
       "      <td>1038.509804</td>\n",
       "    </tr>\n",
       "    <tr>\n",
       "      <th>77121</th>\n",
       "      <td>1441676</td>\n",
       "      <td>20.0</td>\n",
       "      <td>female</td>\n",
       "      <td>253.0</td>\n",
       "      <td>230.0</td>\n",
       "      <td>73.0</td>\n",
       "      <td>178166.0</td>\n",
       "      <td>10-20</td>\n",
       "      <td>704.213439</td>\n",
       "    </tr>\n",
       "    <tr>\n",
       "      <th>94906</th>\n",
       "      <td>1674584</td>\n",
       "      <td>17.0</td>\n",
       "      <td>female</td>\n",
       "      <td>401.0</td>\n",
       "      <td>818.0</td>\n",
       "      <td>395.0</td>\n",
       "      <td>261197.0</td>\n",
       "      <td>10-20</td>\n",
       "      <td>651.364090</td>\n",
       "    </tr>\n",
       "  </tbody>\n",
       "</table>\n",
       "</div>"
      ],
      "text/plain": [
       "        userid   age  gender  tenure  friend_count  friendships_initiated  \\\n",
       "94996  1149300  24.0  female     2.0         834.0                  104.0   \n",
       "94057  2175941  18.0    male     2.0         640.0                  299.0   \n",
       "98773  2042824  18.0    male    51.0        4817.0                   32.0   \n",
       "77121  1441676  20.0  female   253.0         230.0                   73.0   \n",
       "94906  1674584  17.0  female   401.0         818.0                  395.0   \n",
       "\n",
       "       likes_received age_group  likes_per_day  \n",
       "94996          5404.0     21-30    2702.000000  \n",
       "94057          2542.0     10-20    1271.000000  \n",
       "98773         52964.0     10-20    1038.509804  \n",
       "77121        178166.0     10-20     704.213439  \n",
       "94906        261197.0     10-20     651.364090  "
      ]
     },
     "execution_count": 94,
     "metadata": {},
     "output_type": "execute_result"
    }
   ],
   "source": [
    "# For every single user, likes per day\n",
    "\n",
    "df['likes_per_day']  = df['likes_received']/df['tenure'].where(df['tenure']>0)\n",
    "famous = df.sort_values(by = [ 'likes_per_day','likes_received'],ascending = False)[:5]\n",
    "famous"
   ]
  },
  {
   "cell_type": "code",
   "execution_count": 101,
   "id": "911d49a3-feb6-4f54-a751-3184b0a0eade",
   "metadata": {},
   "outputs": [
    {
     "data": {
      "image/png": "[encoded data removed]",
      "text/plain": [
       "<Figure size 1200x500 with 1 Axes>"
      ]
     },
     "metadata": {},
     "output_type": "display_data"
    }
   ],
   "source": [
    "fig,ax = plt.subplots(figsize  = (12,5))\n",
    "famous.plot(x='userid' ,y='likes_per_day',kind = 'bar', ax = ax)\n",
    "plt.xlabel(\"User ID\",fontsize = 15)\n",
    "plt.ylabel(\"Like Count per day\", fontsize = 15)\n",
    "plt.yticks([])\n",
    "for i in ax.containers:\n",
    "    ax.bar_label(i)\n",
    "\n",
    "\n",
    "#removing legend\n",
    "\n",
    "ax.get_legend().remove()\n",
    "plt.show()"
   ]
  },
  {
   "cell_type": "markdown",
   "id": "f0feb1ac-21a7-4a16-aa6f-b958952e856e",
   "metadata": {},
   "source": [
    "# Top 5 Users who send more friendship requests."
   ]
  },
  {
   "cell_type": "code",
   "execution_count": 97,
   "id": "820d75ea-38be-4f70-b570-03080881c3a1",
   "metadata": {},
   "outputs": [
    {
     "data": {
      "text/html": [
       "<div>\n",
       "<style scoped>\n",
       "    .dataframe tbody tr th:only-of-type {\n",
       "        vertical-align: middle;\n",
       "    }\n",
       "\n",
       "    .dataframe tbody tr th {\n",
       "        vertical-align: top;\n",
       "    }\n",
       "\n",
       "    .dataframe thead th {\n",
       "        text-align: right;\n",
       "    }\n",
       "</style>\n",
       "<table border=\"1\" class=\"dataframe\">\n",
       "  <thead>\n",
       "    <tr style=\"text-align: right;\">\n",
       "      <th></th>\n",
       "      <th>userid</th>\n",
       "      <th>age</th>\n",
       "      <th>gender</th>\n",
       "      <th>tenure</th>\n",
       "      <th>friend_count</th>\n",
       "      <th>friendships_initiated</th>\n",
       "      <th>likes_received</th>\n",
       "      <th>age_group</th>\n",
       "      <th>likes_per_day</th>\n",
       "    </tr>\n",
       "  </thead>\n",
       "  <tbody>\n",
       "    <tr>\n",
       "      <th>98993</th>\n",
       "      <td>1654565</td>\n",
       "      <td>19.0</td>\n",
       "      <td>male</td>\n",
       "      <td>394.0</td>\n",
       "      <td>4538.0</td>\n",
       "      <td>4144.0</td>\n",
       "      <td>15088.0</td>\n",
       "      <td>10-20</td>\n",
       "      <td>38.294416</td>\n",
       "    </tr>\n",
       "    <tr>\n",
       "      <th>98842</th>\n",
       "      <td>1052695</td>\n",
       "      <td>22.0</td>\n",
       "      <td>female</td>\n",
       "      <td>874.0</td>\n",
       "      <td>4297.0</td>\n",
       "      <td>3654.0</td>\n",
       "      <td>2006.0</td>\n",
       "      <td>21-30</td>\n",
       "      <td>2.295195</td>\n",
       "    </tr>\n",
       "    <tr>\n",
       "      <th>98675</th>\n",
       "      <td>1949247</td>\n",
       "      <td>19.0</td>\n",
       "      <td>female</td>\n",
       "      <td>434.0</td>\n",
       "      <td>4189.0</td>\n",
       "      <td>3594.0</td>\n",
       "      <td>2859.0</td>\n",
       "      <td>10-20</td>\n",
       "      <td>6.587558</td>\n",
       "    </tr>\n",
       "    <tr>\n",
       "      <th>98567</th>\n",
       "      <td>1205425</td>\n",
       "      <td>60.0</td>\n",
       "      <td>female</td>\n",
       "      <td>1562.0</td>\n",
       "      <td>4794.0</td>\n",
       "      <td>3538.0</td>\n",
       "      <td>1318.0</td>\n",
       "      <td>51-60</td>\n",
       "      <td>0.843790</td>\n",
       "    </tr>\n",
       "    <tr>\n",
       "      <th>98347</th>\n",
       "      <td>1403953</td>\n",
       "      <td>19.0</td>\n",
       "      <td>male</td>\n",
       "      <td>519.0</td>\n",
       "      <td>3693.0</td>\n",
       "      <td>3415.0</td>\n",
       "      <td>20.0</td>\n",
       "      <td>10-20</td>\n",
       "      <td>0.038536</td>\n",
       "    </tr>\n",
       "  </tbody>\n",
       "</table>\n",
       "</div>"
      ],
      "text/plain": [
       "        userid   age  gender  tenure  friend_count  friendships_initiated  \\\n",
       "98993  1654565  19.0    male   394.0        4538.0                 4144.0   \n",
       "98842  1052695  22.0  female   874.0        4297.0                 3654.0   \n",
       "98675  1949247  19.0  female   434.0        4189.0                 3594.0   \n",
       "98567  1205425  60.0  female  1562.0        4794.0                 3538.0   \n",
       "98347  1403953  19.0    male   519.0        3693.0                 3415.0   \n",
       "\n",
       "       likes_received age_group  likes_per_day  \n",
       "98993         15088.0     10-20      38.294416  \n",
       "98842          2006.0     21-30       2.295195  \n",
       "98675          2859.0     10-20       6.587558  \n",
       "98567          1318.0     51-60       0.843790  \n",
       "98347            20.0     10-20       0.038536  "
      ]
     },
     "execution_count": 97,
     "metadata": {},
     "output_type": "execute_result"
    }
   ],
   "source": [
    "followers = df.sort_values(by = 'friendships_initiated',ascending = False)[:5]\n",
    "followers"
   ]
  },
  {
   "cell_type": "code",
   "execution_count": 99,
   "id": "9bee26a1-b7f5-4048-9fd1-b325346a1fcf",
   "metadata": {},
   "outputs": [
    {
     "data": {
      "image/png": "[encoded data removed]",
      "text/plain": [
       "<Figure size 1200x500 with 1 Axes>"
      ]
     },
     "metadata": {},
     "output_type": "display_data"
    }
   ],
   "source": [
    "fig,ax = plt.subplots(figsize  = (12,5))\n",
    "followers.plot(x='userid' ,y='friendships_initiated',kind = 'bar', ax = ax)\n",
    "plt.xlabel(\"User ID\",fontsize = 15)\n",
    "plt.ylabel(\"Friendships Initiated Count\", fontsize = 15)\n",
    "plt.yticks([])\n",
    "for i in ax.containers:\n",
    "    ax.bar_label(i)\n",
    "\n",
    "\n",
    "#removing legend\n",
    "\n",
    "ax.get_legend().remove()\n",
    "plt.show()"
   ]
  },
  {
   "cell_type": "code",
   "execution_count": null,
   "id": "926ef6c3-518c-4275-ba8f-c1eacf201f88",
   "metadata": {},
   "outputs": [],
   "source": []
  }
 ],
 "metadata": {
  "kernelspec": {
   "display_name": "Python 3 (ipykernel)",
   "language": "python",
   "name": "python3"
  },
  "language_info": {
   "codemirror_mode": {
    "name": "ipython",
    "version": 3
   },
   "file_extension": ".py",
   "mimetype": "text/x-python",
   "name": "python",
   "nbconvert_exporter": "python",
   "pygments_lexer": "ipython3",
   "version": "3.11.5"
  }
 },
 "nbformat": 4,
 "nbformat_minor": 5
}
